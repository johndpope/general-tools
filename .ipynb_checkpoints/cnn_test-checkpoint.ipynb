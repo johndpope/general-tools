{
 "cells": [
  {
   "cell_type": "code",
   "execution_count": 28,
   "metadata": {},
   "outputs": [],
   "source": [
    "import keras\n",
    "from keras.models import Sequential\n",
    "from keras.layers import *\n",
    "from keras.datasets import cifar10\n",
    "import keras.backend as K\n",
    "import time\n",
    "\n",
    "# why? https://github.com/fchollet/keras/issues/3959\n",
    "K.set_image_dim_ordering(\"th\")\n"
   ]
  },
  {
   "cell_type": "code",
   "execution_count": 22,
   "metadata": {},
   "outputs": [],
   "source": [
    "(X_train, y_train), (X_test, y_test) = cifar10.load_data()\n",
    "y_train = keras.utils.np_utils.to_categorical(y_train)\n",
    "y_test = keras.utils.np_utils.to_categorical(y_test)"
   ]
  },
  {
   "cell_type": "code",
   "execution_count": 23,
   "metadata": {},
   "outputs": [
    {
     "name": "stdout",
     "output_type": "stream",
     "text": [
      "X_train -  (50000, 3, 32, 32)\n",
      "y_train -  (50000, 10)\n",
      "X_test -  (10000, 3, 32, 32)\n",
      "y_test -  (10000, 10)\n"
     ]
    }
   ],
   "source": [
    "print(\"X_train - \", X_train.shape)\n",
    "print(\"y_train - \", y_train.shape)\n",
    "print(\"X_test - \", X_test.shape)\n",
    "print(\"y_test - \", y_test.shape)\n"
   ]
  },
  {
   "cell_type": "code",
   "execution_count": 24,
   "metadata": {},
   "outputs": [],
   "source": [
    "model = Sequential()\n",
    "model.add(Convolution2D(16,3,3, activation='relu', input_shape=(3,32,32)))\n",
    "model.add(Flatten())\n",
    "model.add(Dense(16, activation='relu'))\n",
    "model.add(Dense(10, activation='relu'))\n",
    "\n",
    "model.compile(optimizer='adam', loss='categorical_crossentropy', metrics=['accuracy'])\n"
   ]
  },
  {
   "cell_type": "code",
   "execution_count": 29,
   "metadata": {},
   "outputs": [],
   "source": [
    "def run_one_epoch(batch_size):\n",
    "    start = time.time()\n",
    "    model.fit(X_train, y_train, nb_epoch=1, batch_size=batch_size, verbose=0)\n",
    "    return time.time() - start\n"
   ]
  },
  {
   "cell_type": "code",
   "execution_count": null,
   "metadata": {},
   "outputs": [
    {
     "name": "stdout",
     "output_type": "stream",
     "text": [
      "nb_epoch={} : {:.2f} secs\n",
      "nb_epoch={} : {:.2f} secs\n",
      "nb_epoch={} : {:.2f} secs\n"
     ]
    }
   ],
   "source": [
    "for nb_epoch in [32,64,128,256]:\n",
    "    t = run_one_epoch(nb_epoch)\n",
    "    print(\"nb_epoch={} : {:.2f} secs\")"
   ]
  },
  {
   "cell_type": "code",
   "execution_count": null,
   "metadata": {},
   "outputs": [],
   "source": []
  },
  {
   "cell_type": "code",
   "execution_count": null,
   "metadata": {},
   "outputs": [],
   "source": []
  }
 ],
 "metadata": {
  "kernelspec": {
   "display_name": "Python [Root]",
   "language": "python",
   "name": "Python [Root]"
  },
  "language_info": {
   "codemirror_mode": {
    "name": "ipython",
    "version": 3
   },
   "file_extension": ".py",
   "mimetype": "text/x-python",
   "name": "python",
   "nbconvert_exporter": "python",
   "pygments_lexer": "ipython3",
   "version": "3.5.2"
  }
 },
 "nbformat": 4,
 "nbformat_minor": 0
}
